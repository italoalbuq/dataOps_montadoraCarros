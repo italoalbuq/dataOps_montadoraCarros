{
 "cells": [
  {
   "cell_type": "markdown",
   "id": "6c1293bb",
   "metadata": {},
   "source": [
    "# IMPORTS"
   ]
  },
  {
   "cell_type": "code",
   "execution_count": 1,
   "id": "90d51aa4",
   "metadata": {},
   "outputs": [],
   "source": [
    "import pandas as pd\n",
    "from pymongo import MongoClient"
   ]
  },
  {
   "cell_type": "markdown",
   "id": "8f49f147",
   "metadata": {},
   "source": [
    "# CRIAÇÃO E EXPORT DOS DATAFRAMES"
   ]
  },
  {
   "cell_type": "markdown",
   "id": "236884e2",
   "metadata": {},
   "source": [
    "## Carros"
   ]
  },
  {
   "cell_type": "code",
   "execution_count": 2,
   "id": "d381eceb",
   "metadata": {},
   "outputs": [
    {
     "name": "stdout",
     "output_type": "stream",
     "text": [
      "     Carro       Cor   Montadora\n",
      "0     Onix     Prata   Chevrolet\n",
      "1     Polo    Branco  Volkswagen\n",
      "2  Sandero     Prata     Renault\n",
      "3   Fiesta  Vermelho        Ford\n",
      "4     City     Preto       Honda\n"
     ]
    }
   ],
   "source": [
    "dados_carros = {\n",
    "    'Carro': ['Onix', 'Polo', 'Sandero', 'Fiesta', 'City'],\n",
    "    'Cor': ['Prata', 'Branco', 'Prata', 'Vermelho', 'Preto'],\n",
    "    'Montadora': ['Chevrolet', 'Volkswagen', 'Renault', 'Ford', 'Honda']\n",
    "}\n",
    "\n",
    "df_carros = pd.DataFrame(dados_carros)\n",
    "\n",
    "print(df_carros)"
   ]
  },
  {
   "cell_type": "code",
   "execution_count": 3,
   "id": "e1a9aeb4",
   "metadata": {},
   "outputs": [],
   "source": [
    "df_carros.to_csv('df_carros.csv', index=False)"
   ]
  },
  {
   "cell_type": "markdown",
   "id": "9d919fda",
   "metadata": {},
   "source": [
    "## Montadoras"
   ]
  },
  {
   "cell_type": "code",
   "execution_count": 4,
   "id": "1cd8e88e",
   "metadata": {},
   "outputs": [
    {
     "name": "stdout",
     "output_type": "stream",
     "text": [
      "    Montadora      Pais\n",
      "0   Chevrolet       EUA\n",
      "1  Volkswagen  Alemanha\n",
      "2     Renault    Franca\n",
      "3        Ford       EUA\n",
      "4       Honda     Japao\n"
     ]
    }
   ],
   "source": [
    "dados_montadora = {\n",
    "    'Montadora': ['Chevrolet', 'Volkswagen', 'Renault', 'Ford', 'Honda'],\n",
    "    'Pais': ['EUA', 'Alemanha', 'Franca', 'EUA', 'Japao']\n",
    "}\n",
    "\n",
    "df_montadoras = pd.DataFrame(dados_montadora)\n",
    "\n",
    "print(df_montadoras)"
   ]
  },
  {
   "cell_type": "code",
   "execution_count": 5,
   "id": "b552988a",
   "metadata": {},
   "outputs": [],
   "source": [
    "df_montadoras.to_csv('df_montadoras.csv', index=False)"
   ]
  },
  {
   "cell_type": "markdown",
   "id": "ef23a730",
   "metadata": {},
   "source": [
    "# CONEXÃO COM O MONGODB"
   ]
  },
  {
   "cell_type": "code",
   "execution_count": 6,
   "id": "9af7c96b",
   "metadata": {},
   "outputs": [],
   "source": [
    "client = MongoClient('localhost', 27017)\n",
    "db = client['database']"
   ]
  },
  {
   "cell_type": "markdown",
   "id": "579e3dc2",
   "metadata": {},
   "source": [
    "## Enviando para coleção"
   ]
  },
  {
   "cell_type": "code",
   "execution_count": 7,
   "id": "5c301c34",
   "metadata": {},
   "outputs": [
    {
     "data": {
      "text/plain": [
       "<pymongo.results.InsertManyResult at 0x14ee3e77730>"
      ]
     },
     "execution_count": 7,
     "metadata": {},
     "output_type": "execute_result"
    }
   ],
   "source": [
    "db['Carros'].insert_many(df_carros.to_dict('records'))\n",
    "db['Montadoras'].insert_many(df_montadoras.to_dict('records'))"
   ]
  }
 ],
 "metadata": {
  "kernelspec": {
   "display_name": "Python 3 (ipykernel)",
   "language": "python",
   "name": "python3"
  },
  "language_info": {
   "codemirror_mode": {
    "name": "ipython",
    "version": 3
   },
   "file_extension": ".py",
   "mimetype": "text/x-python",
   "name": "python",
   "nbconvert_exporter": "python",
   "pygments_lexer": "ipython3",
   "version": "3.9.13"
  }
 },
 "nbformat": 4,
 "nbformat_minor": 5
}
